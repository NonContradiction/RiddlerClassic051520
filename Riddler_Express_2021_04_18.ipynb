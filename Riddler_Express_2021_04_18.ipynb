{
 "cells": [
  {
   "cell_type": "markdown",
   "metadata": {},
   "source": [
    "# Riddler Express April 18, 2021\n",
    "\n",
    "From https://fivethirtyeight.com/features/can-you-crack-the-case-of-the-crescent-moon/\n",
    "\n",
    "From Curtis Karnow comes a puzzle that boldly goes where no human has gone before:\n",
    "\n",
    "You are creating a variation of a Romulan pixmit deck. Each card is an equilateral triangle, with one of the digits 0 through 9 (written in Romulan, of course) at the base of each side of the card. No number appears more than once on each card. Furthermore, every card in the deck is unique, meaning no card can be rotated so that it matches (i.e., can be superimposed on) any other card.\n",
    "\n",
    "What is the greatest number of cards your pixmit deck can have?\n",
    "\n",
    "Extra credit: Suppose you allow numbers to appear two or three times on a given card. Once again, no card can be rotated so that it matches any other card. Now what is the greatest number of cards your pixmit deck can have?"
   ]
  },
  {
   "cell_type": "markdown",
   "metadata": {},
   "source": [
    "## Solution\n",
    "\n",
    "In the base problem, each of our cards is going to feature three distinct numbers of our ten unique numbers, so we begin by computing the quantity ${10 \\choose 3}$. Moreover, for each possible combination, we may arrange them as many times as we can provided that each card is unique under rotation. Now, each card will have 3 elements and therefore $3! = 6$ permutations, and it is clear that for a given permutation it may be cycled into 2 more orientations (e.g. 1,2,3; 2,3,1; 3,1,2), hence our number of ${10 \\choose 3}$ combinations will get multiplied by $\\frac{6}{3} = 2$, for a closed form expression of \n",
    "\n",
    "$${10 \\choose 3} * \\frac{6}{3}$$\n",
    "\n",
    "which we compute with the aid of the math module: "
   ]
  },
  {
   "cell_type": "code",
   "execution_count": 3,
   "metadata": {},
   "outputs": [
    {
     "data": {
      "text/plain": [
       "240"
      ]
     },
     "execution_count": 3,
     "metadata": {},
     "output_type": "execute_result"
    }
   ],
   "source": [
    "from math import comb\n",
    "comb(10,3) * 2"
   ]
  },
  {
   "cell_type": "markdown",
   "metadata": {},
   "source": [
    "Coincidentally, one Stack Exchange answer supplying the name of this function provides as an example the 10-choose-3 value we require here: https://stackoverflow.com/questions/4941753/is-there-a-math-ncr-function-in-python/4941846"
   ]
  },
  {
   "cell_type": "markdown",
   "metadata": {},
   "source": [
    "## Extra Credit Solution\n",
    "\n",
    "We can break this down into a sum of three cases: the number of possible cards under these constraints = the number of cards with three distinct numbers + the number of cards with two distinct numbers + the number of cards with one distinct number.\n",
    "\n",
    "<br>The first case is the quantity found above. The second is computed similarly, thus: \n",
    "\n",
    "$${10 \\choose 2} * 2$$\n",
    "\n",
    "Where each selection of 2 distinct numbers then has the choice of which of the two numbers to represent twice, and which to represent once, yielding a factor of 2 to the 10-choose-2 quantity. \n",
    "\n",
    "It is simple to see that for our third and last case, the ten selections of individual digits to repeat around the card yield us ten options for numbers and no further factors to multiple. \n",
    "\n",
    "We consult the function for the 10-choose-2 quantity: "
   ]
  },
  {
   "cell_type": "code",
   "execution_count": 4,
   "metadata": {},
   "outputs": [
    {
     "data": {
      "text/plain": [
       "90"
      ]
     },
     "execution_count": 4,
     "metadata": {},
     "output_type": "execute_result"
    }
   ],
   "source": [
    "comb(10,2) * 2"
   ]
  },
  {
   "cell_type": "markdown",
   "metadata": {},
   "source": [
    "And finally compute: \n",
    "\n",
    "$$240 + 90 + 10 = 340$$"
   ]
  },
  {
   "cell_type": "code",
   "execution_count": null,
   "metadata": {},
   "outputs": [],
   "source": []
  }
 ],
 "metadata": {
  "kernelspec": {
   "display_name": "Python 3",
   "language": "python",
   "name": "python3"
  },
  "language_info": {
   "codemirror_mode": {
    "name": "ipython",
    "version": 3
   },
   "file_extension": ".py",
   "mimetype": "text/x-python",
   "name": "python",
   "nbconvert_exporter": "python",
   "pygments_lexer": "ipython3",
   "version": "3.8.5"
  }
 },
 "nbformat": 4,
 "nbformat_minor": 5
}
