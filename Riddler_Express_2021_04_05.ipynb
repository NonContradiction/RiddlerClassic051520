{
 "cells": [
  {
   "cell_type": "markdown",
   "id": "incident-explorer",
   "metadata": {},
   "source": [
    "# Riddler Express April 2, 2021\n",
    "\n",
    "From https://fivethirtyeight.com/features/can-you-outthink-the-sphinx/\n",
    "\n",
    "You and Wenjun are playing a game in which you alternate taking turns, removing pennies from a pile. On your turn, you can remove either one or two pennies from the pile. On Wenjun’s turn, he can remove either two or three pennies. Whoever takes the last penny loses. (If there is only one penny left and it’s Wenjun’s turn, then he skips his turn, which means you will lose). Suppose both you and Wenjun play optimally.\n",
    "\n",
    "1) If you go first, then what initial numbers of pennies mean you will win the game?\n",
    "\n",
    "2) If Wenjun goes first, then what initial numbers of pennies mean he will win the game?"
   ]
  },
  {
   "cell_type": "markdown",
   "id": "advanced-charger",
   "metadata": {},
   "source": [
    "We recognize this as a variant of [Nim](https://www.youtube.com/watch?v=9KABcmczPdg), the key insight of which is _complements_.\n",
    "\n",
    "If I choose 1 or 2 pennies, then Wenjun can cancel out the choice involved in my play by selecting either 3 or 2, respectively--i.e., selecting the complement of 4. Thus, for a given Player 1, our games of Nim can be classified according to how many pennies there are modulo 4: 1, 2, 3, or 0. (0 itself is a meaningless un-game in our scenario, where I go first and win by virtue of the game's ending by my getting to play but receiving an un-pile of 0 pennies to take from.)\n",
    "\n",
    "We assume that I am Player 1. Then, 1 penny means that I lose on my first and only turn. 2 pennies, because of the parenthetical rule, also spell doom. \n",
    "\n",
    "But at 3 pennies, I can select a mere 1 and force Wenjun to deplete the board. And at 4, I can select 2 and leave him with 1.\n",
    "\n",
    "Thus, if I have 3 or 4 pennies on my turn, I am about to win by fielding Wenjun a mere 2 that he is compelled to take. Furthermore, for any value of pennies greater than that by some multiple of 4, I can force a win by fielding Wenjun a mere 2 plus some multiple of 4--thereafter, picking up the complement of 4 that remaining after his selection. \n",
    "\n",
    "We can thus answer question 1 like so: 3 or 4 pennies + 4n $: n \\geq 0$\n",
    "\n",
    "\n",
    "Or we can opt for a closed form: $ \\{4n + 3.5 \\pm 0.5 : n \\geq 0\\} $"
   ]
  },
  {
   "cell_type": "markdown",
   "id": "graphic-thomas",
   "metadata": {},
   "source": [
    "A similar analysis resolves question 2. Modulo 4, Wenjun wins when he receives 1 penny (it skips his turn) or 3 or 4 (his actions can leave me with 1 I am forced to take, or 2, both of which I wind up forced to take). Greater than that by whatever multiple of 4, he can win by fielding me the 1 or 2 plus whatever multiple of 4, therafter eating the complement of my pick. <br>"
   ]
  },
  {
   "cell_type": "markdown",
   "id": "cubic-universe",
   "metadata": {},
   "source": [
    "We can also consider this another way: we saw above that when I go first, I win when I have 3 or 4 (plus 4$n$) and lose when I have only 1 or 2 (plus 4$n$). But \"go first\" may be replaced here with \"it is my turn\". So the outcomes can be rephrased (with perhaps less legwork) as, For which numbers of pennies can Wenjun field me a 1 or 2 (plus 4$n$)? Wenjun can obviously do so with 3 or 4, but he can also do so if he has 1, by virtue of being able to pick all 3 and roll over the count to 2 (or if he has literally 1, his turn skips). <br> So Wenjun, picking first, will win with 1, 3, or 4 pennies + $4n$. <br>"
   ]
  },
  {
   "cell_type": "markdown",
   "id": "secure-colors",
   "metadata": {},
   "source": [
    "We can express Wenjun's winning starting condition as a closed form, a closed form expression for all of the positive integers that are equal to 1, 3, or 4, modulo 4: \n",
    "\n",
    "$\\{4n + 4 - a2^{a-1} + a! - 1 : n \\geq 0, a \\in {0,1,2}\\}$\n",
    "\n",
    "Or the more succinct (though less conceptually transparent): \n",
    "\n",
    "$\\{4n + 3 - a2^{a-1} + a! : n \\geq 0, a \\in {0,1,2}\\}$"
   ]
  },
  {
   "cell_type": "markdown",
   "id": "attached-violin",
   "metadata": {},
   "source": [
    "This might be somewhat surprising, since different first players partition the outcome space differently: I win 50% of the outcomes when I pick first, but Wenjun wins 75% of possible outcomes when he picks first. <br>"
   ]
  },
  {
   "cell_type": "markdown",
   "id": "spectacular-script",
   "metadata": {},
   "source": [
    "In general, for solving Nim variants, determining the complement ($c$) that could be selected is half the work. Then working out the optimal play outcomes for the first $c$ turns for a given first mover is all that is required, since those outcomes then repeat _ad infinitum_ (assuming that edge cases, like when Wenjun is fielded one single penny which he may not ordinarily take, are addressed in the rules such that they work out symmetrically)."
   ]
  },
  {
   "cell_type": "code",
   "execution_count": null,
   "id": "explicit-decision",
   "metadata": {},
   "outputs": [],
   "source": []
  }
 ],
 "metadata": {
  "kernelspec": {
   "display_name": "Python 3",
   "language": "python",
   "name": "python3"
  },
  "language_info": {
   "codemirror_mode": {
    "name": "ipython",
    "version": 3
   },
   "file_extension": ".py",
   "mimetype": "text/x-python",
   "name": "python",
   "nbconvert_exporter": "python",
   "pygments_lexer": "ipython3",
   "version": "3.7.9"
  }
 },
 "nbformat": 4,
 "nbformat_minor": 5
}
