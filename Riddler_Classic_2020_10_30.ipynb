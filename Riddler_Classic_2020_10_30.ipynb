{
 "cells": [
  {
   "cell_type": "markdown",
   "metadata": {},
   "source": [
    "# Riddler Classic\n",
    "### From here: \n",
    "##### https://fivethirtyeight.com/features/beware-the-hot-pumpkin/"
   ]
  },
  {
   "cell_type": "markdown",
   "metadata": {},
   "source": [
    "Note that 61 players are playing this game, that the first person to hold the pumpkin counts \"1\", and that the person to count the fixed number $N$ is eliminated. Each player to be eliminated is thus positioned such that the number $N$ is equal to some multiple of however many players remain, plus their own number position. "
   ]
  },
  {
   "cell_type": "markdown",
   "metadata": {},
   "source": [
    "Thus, each constraint of some player positioned as player number $m$ generates an infinite list of possibilities for what $N$ could be; if the first players were eliminated right away, the possibilities would begin 1, 62, 123, etc. We are asked to find the lowest number that intersects all the possible ranges, given our constraints. "
   ]
  },
  {
   "cell_type": "markdown",
   "metadata": {},
   "source": [
    "Taking a preliminary run at it, we see the first several such numbers that are off by fixed constants from multiples of 61, 60, etc:  "
   ]
  },
  {
   "cell_type": "code",
   "execution_count": 2,
   "metadata": {},
   "outputs": [
    {
     "name": "stdout",
     "output_type": "stream",
     "text": [
      "79\n",
      "140\n",
      "201\n",
      "262\n",
      "323\n",
      "384\n",
      "445\n",
      "506\n",
      "567\n",
      "628\n",
      "689\n",
      "750\n",
      "811\n",
      "872\n",
      "933\n"
     ]
    }
   ],
   "source": [
    "for i in range(15):\n",
    "    print(18 + 61*(i+1))"
   ]
  },
  {
   "cell_type": "code",
   "execution_count": 3,
   "metadata": {},
   "outputs": [
    {
     "name": "stdout",
     "output_type": "stream",
     "text": [
      "92\n",
      "152\n",
      "212\n",
      "272\n",
      "332\n",
      "392\n",
      "452\n",
      "512\n",
      "572\n",
      "632\n",
      "692\n",
      "752\n",
      "812\n",
      "872\n",
      "932\n"
     ]
    }
   ],
   "source": [
    "for i in range(15):\n",
    "    print(32 + 60*(i+1))"
   ]
  },
  {
   "cell_type": "code",
   "execution_count": 4,
   "metadata": {},
   "outputs": [
    {
     "name": "stdout",
     "output_type": "stream",
     "text": [
      "59\n",
      "118\n",
      "177\n",
      "236\n",
      "295\n",
      "354\n",
      "413\n",
      "472\n",
      "531\n",
      "590\n",
      "649\n",
      "708\n",
      "767\n",
      "826\n",
      "885\n"
     ]
    }
   ],
   "source": [
    "for i in range(15):\n",
    "    print(59*(i+1))"
   ]
  },
  {
   "cell_type": "markdown",
   "metadata": {},
   "source": [
    "Finding no overlap, we compute more intensely: "
   ]
  },
  {
   "cell_type": "code",
   "execution_count": 5,
   "metadata": {},
   "outputs": [],
   "source": [
    "first = [ 19+61*i for i in range(10000) ]\n",
    "second = [ 32+60*i for i in range(10000) ]\n",
    "third = [ 1+59*i for i in range(10000) ]"
   ]
  },
  {
   "cell_type": "code",
   "execution_count": 6,
   "metadata": {},
   "outputs": [],
   "source": [
    "first_set = set(first)\n",
    "firstinter = first_set.intersection(second)"
   ]
  },
  {
   "cell_type": "code",
   "execution_count": 8,
   "metadata": {},
   "outputs": [
    {
     "name": "stdout",
     "output_type": "stream",
     "text": [
      "{136232, 568112, 352172}\n"
     ]
    }
   ],
   "source": [
    "print(firstinter.intersection(third))"
   ]
  },
  {
   "cell_type": "markdown",
   "metadata": {},
   "source": [
    "So the minimum possible $N$ is 136,232. Wow. "
   ]
  },
  {
   "cell_type": "markdown",
   "metadata": {},
   "source": [
    "# Extra Credit: \n",
    "\n",
    "Suppose the players were numbered from 1 to 61, with you as Player No. 1, the player to your left as Player No. 2 and so on. Which player won the game?"
   ]
  },
  {
   "cell_type": "markdown",
   "metadata": {},
   "source": [
    "Note that we have to <i>assume</i> a particular value of $N$ here. In other words, in the above problem, we were given some information on how the game went, and then asked \"What was the smallest value of $N$ the group could have used for this game?\" The question implies that said smallest value is not necessarily what was used--and, moreover, whether 136,232 was in fact used (instead of, say, 568,112) could have an impact on the winner. So then, we proceed with $N = 136232.$"
   ]
  },
  {
   "cell_type": "code",
   "execution_count": 58,
   "metadata": {},
   "outputs": [
    {
     "name": "stdout",
     "output_type": "stream",
     "text": [
      "[0, 1, 2, 3, 4, 5, 6, 7, 8, 9, 10, 11, 12, 13, 14, 15, 16, 17, 18, 19, 20, 21, 22, 23, 24, 25, 26, 27, 28, 29, 30, 31, 32, 33, 34, 35, 36, 37, 38, 39, 40, 41, 42, 43, 44, 45, 46, 47, 48, 49, 50, 51, 52, 53, 54, 55, 56, 57, 58, 59, 60]\n",
      "61\n",
      "The winner is:  [57]\n"
     ]
    }
   ],
   "source": [
    "#We consider our players as numbered elements in a list\n",
    "theplayers = [i for i in range(0, 61)]\n",
    "print(theplayers)\n",
    "print(len(theplayers))\n",
    "\n",
    "#What is our value of N?\n",
    "N = 136232\n",
    "\n",
    "#We think in terms of elminating all the players but 1\n",
    "theelims = len(theplayers)-1\n",
    "spottracker = 0\n",
    "while len(theplayers) > 1:\n",
    "    #This operation represents the remainder after appropriate division\n",
    "    unlucky = N % len(theplayers)\n",
    "    #Fence post error alert; \n",
    "    #Our players begin with number 0, so . . .\n",
    "    unlucky -= 1\n",
    "    #But where did we begin counting last time?\n",
    "    unlucky += spottracker\n",
    "    #And in case we're now out of range: \n",
    "    unlucky = unlucky % len(theplayers)\n",
    "    #Also, for next time: \n",
    "    spottracker = unlucky\n",
    "    #For extra visibility: \n",
    "    #print(theplayers)\n",
    "    \n",
    "    #And these players get deleted: \n",
    "    del theplayers[unlucky]\n",
    "\n",
    "#And when it's all over, the winner: \n",
    "print(\"The winner is: \", theplayers)"
   ]
  },
  {
   "cell_type": "code",
   "execution_count": 59,
   "metadata": {},
   "outputs": [
    {
     "name": "stdout",
     "output_type": "stream",
     "text": [
      "[0, 1, 2, 3, 4, 5, 6, 7, 8, 9, 10, 11, 12, 13, 14, 15, 16, 17, 18, 19, 20, 21, 22, 23, 24, 25, 26, 27, 28, 29, 30, 31, 32, 33, 34, 35, 36, 37, 38, 39, 40, 41, 42, 43, 44, 45, 46, 47, 48, 49, 50, 51, 52, 53, 54, 55, 56, 57, 58, 59, 60]\n",
      "61\n",
      "The winner is:  [21]\n"
     ]
    }
   ],
   "source": [
    "#Is it different with a different valid, but larger, N?\n",
    "\n",
    "#We consider our players as numbered elements in a list\n",
    "theplayers = [i for i in range(0, 61)]\n",
    "print(theplayers)\n",
    "print(len(theplayers))\n",
    "\n",
    "#What is our value of N?\n",
    "N = 568112\n",
    "\n",
    "#We think in terms of elminating all the players but 1\n",
    "theelims = len(theplayers)-1\n",
    "spottracker = 0\n",
    "while len(theplayers) > 1:\n",
    "    #This operation represents the remainder after appropriate division\n",
    "    unlucky = N % len(theplayers)\n",
    "    #Fence post error alert; \n",
    "    #Our players begin with number 0, so . . .\n",
    "    unlucky -= 1\n",
    "    #But where did we begin counting last time?\n",
    "    unlucky += spottracker\n",
    "    #And in case we're now out of range: \n",
    "    unlucky = unlucky % len(theplayers)\n",
    "    #Also, for next time: \n",
    "    spottracker = unlucky\n",
    "    #For extra visibility: \n",
    "    #print(theplayers)\n",
    "    \n",
    "    #And these players get deleted: \n",
    "    del theplayers[unlucky]\n",
    "\n",
    "#And when it's all over, the winner: \n",
    "print(\"The winner is: \", theplayers)"
   ]
  },
  {
   "cell_type": "code",
   "execution_count": 60,
   "metadata": {},
   "outputs": [
    {
     "name": "stdout",
     "output_type": "stream",
     "text": [
      "[0, 1, 2, 3, 4, 5, 6, 7, 8, 9, 10, 11, 12, 13, 14, 15, 16, 17, 18, 19, 20, 21, 22, 23, 24, 25, 26, 27, 28, 29, 30, 31, 32, 33, 34, 35, 36, 37, 38, 39, 40, 41, 42, 43, 44, 45, 46, 47, 48, 49, 50, 51, 52, 53, 54, 55, 56, 57, 58, 59, 60]\n",
      "61\n",
      "The winner is:  [16]\n"
     ]
    }
   ],
   "source": [
    "#How about this one?\n",
    "\n",
    "#We consider our players as numbered elements in a list\n",
    "theplayers = [i for i in range(0, 61)]\n",
    "print(theplayers)\n",
    "print(len(theplayers))\n",
    "\n",
    "#What is our value of N?\n",
    "N = 352172\n",
    "\n",
    "#We think in terms of elminating all the players but 1\n",
    "theelims = len(theplayers)-1\n",
    "spottracker = 0\n",
    "while len(theplayers) > 1:\n",
    "    #This operation represents the remainder after appropriate division\n",
    "    unlucky = N % len(theplayers)\n",
    "    #Fence post error alert; \n",
    "    #Our players begin with number 0, so . . .\n",
    "    unlucky -= 1\n",
    "    #But where did we begin counting last time?\n",
    "    unlucky += spottracker\n",
    "    #And in case we're now out of range: \n",
    "    unlucky = unlucky % len(theplayers)\n",
    "    #Also, for next time: \n",
    "    spottracker = unlucky\n",
    "    #For extra visibility: \n",
    "    #print(theplayers)\n",
    "    \n",
    "    #And these players get deleted: \n",
    "    del theplayers[unlucky]\n",
    "\n",
    "#And when it's all over, the winner: \n",
    "print(\"The winner is: \", theplayers)"
   ]
  },
  {
   "cell_type": "markdown",
   "metadata": {},
   "source": [
    "Indeed it is!"
   ]
  },
  {
   "cell_type": "markdown",
   "metadata": {},
   "source": [
    "# Extra Extra Credit: \n",
    "\n",
    "The smallest value of $N$ that would make us, in position 0, the winner."
   ]
  },
  {
   "cell_type": "code",
   "execution_count": 61,
   "metadata": {},
   "outputs": [
    {
     "name": "stdout",
     "output_type": "stream",
     "text": [
      "2\n",
      "3\n",
      "4\n",
      "5\n",
      "6\n",
      "7\n",
      "8\n",
      "9\n",
      "10\n",
      "11\n",
      "12\n",
      "13\n",
      "14\n",
      "15\n",
      "16\n",
      "17\n",
      "18\n",
      "19\n",
      "20\n",
      "21\n",
      "22\n",
      "23\n",
      "24\n",
      "25\n",
      "26\n",
      "27\n",
      "28\n",
      "29\n",
      "30\n",
      "31\n",
      "32\n",
      "33\n",
      "34\n",
      "35\n",
      "36\n",
      "37\n",
      "38\n",
      "39\n",
      "40\n",
      "41\n",
      "42\n",
      "43\n",
      "44\n",
      "45\n",
      "46\n",
      "47\n",
      "48\n",
      "49\n",
      "50\n",
      "51\n",
      "52\n",
      "53\n",
      "54\n",
      "55\n",
      "56\n",
      "57\n",
      "58\n",
      "59\n",
      "60\n",
      "61\n",
      "62\n",
      "63\n",
      "64\n",
      "65\n",
      "66\n",
      "67\n",
      "68\n",
      "69\n",
      "70\n",
      "71\n",
      "72\n",
      "The smallest winning value of N is:  72\n"
     ]
    }
   ],
   "source": [
    "#Setting a sensible starting candidate for N: \n",
    "N = 2\n",
    "\n",
    "victory = 0\n",
    "#We think in terms of elminating all the players but 1\n",
    "while victory == 0:\n",
    "    theplayers = [i for i in range(0, 61)]\n",
    "    theelims = len(theplayers)-1\n",
    "    spottracker = 0\n",
    "    while len(theplayers) > 1:\n",
    "        #This operation represents the remainder after appropriate division\n",
    "        unlucky = N % len(theplayers)\n",
    "        #Fence post error alert; \n",
    "        #Our players begin with number 0, so . . .\n",
    "        unlucky -= 1\n",
    "        #But where did we begin counting last time?\n",
    "        unlucky += spottracker\n",
    "        #And in case we're now out of range: \n",
    "        unlucky = unlucky % len(theplayers)\n",
    "        #Also, for next time: \n",
    "        spottracker = unlucky\n",
    "        #And these players get deleted: \n",
    "        del theplayers[unlucky]\n",
    "    #Sanity check printing: \n",
    "    #print(N)\n",
    "    \n",
    "    if theplayers == [1]:\n",
    "        victory = 1\n",
    "    else:\n",
    "        N += 1\n",
    "\n",
    "#And when it's all over, the winner: \n",
    "print(\"The smallest winning value of N is: \", N)"
   ]
  }
 ],
 "metadata": {
  "kernelspec": {
   "display_name": "Python 3",
   "language": "python",
   "name": "python3"
  },
  "language_info": {
   "codemirror_mode": {
    "name": "ipython",
    "version": 3
   },
   "file_extension": ".py",
   "mimetype": "text/x-python",
   "name": "python",
   "nbconvert_exporter": "python",
   "pygments_lexer": "ipython3",
   "version": "3.7.8"
  }
 },
 "nbformat": 4,
 "nbformat_minor": 4
}
