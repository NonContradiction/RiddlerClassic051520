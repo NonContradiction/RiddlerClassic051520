{
 "cells": [
  {
   "cell_type": "markdown",
   "id": "engaging-aquatic",
   "metadata": {},
   "source": [
    "# Riddler Express\n",
    "### February 5, 2021\n",
    "https://fivethirtyeight.com/features/can-you-randomly-move-the-tower/"
   ]
  },
  {
   "cell_type": "markdown",
   "id": "agricultural-working",
   "metadata": {},
   "source": [
    "This is really more of a pen-and-paper problem, but we can display and check our solution with a python notebook so we do so here."
   ]
  },
  {
   "cell_type": "code",
   "execution_count": 1,
   "id": "identified-vector",
   "metadata": {},
   "outputs": [
    {
     "data": {
      "text/html": [
       "<div>\n",
       "<style scoped>\n",
       "    .dataframe tbody tr th:only-of-type {\n",
       "        vertical-align: middle;\n",
       "    }\n",
       "\n",
       "    .dataframe tbody tr th {\n",
       "        vertical-align: top;\n",
       "    }\n",
       "\n",
       "    .dataframe thead th {\n",
       "        text-align: right;\n",
       "    }\n",
       "</style>\n",
       "<table border=\"1\" class=\"dataframe\">\n",
       "  <thead>\n",
       "    <tr style=\"text-align: right;\">\n",
       "      <th></th>\n",
       "      <th>3,000</th>\n",
       "      <th>3,969</th>\n",
       "      <th>640</th>\n",
       "    </tr>\n",
       "  </thead>\n",
       "  <tbody>\n",
       "    <tr>\n",
       "      <th>0</th>\n",
       "      <td>3</td>\n",
       "      <td>9</td>\n",
       "      <td>5</td>\n",
       "    </tr>\n",
       "    <tr>\n",
       "      <th>1</th>\n",
       "      <td>5</td>\n",
       "      <td>9</td>\n",
       "      <td>1</td>\n",
       "    </tr>\n",
       "    <tr>\n",
       "      <th>2</th>\n",
       "      <td>8</td>\n",
       "      <td>1</td>\n",
       "      <td>8</td>\n",
       "    </tr>\n",
       "    <tr>\n",
       "      <th>3</th>\n",
       "      <td>5</td>\n",
       "      <td>7</td>\n",
       "      <td>8</td>\n",
       "    </tr>\n",
       "    <tr>\n",
       "      <th>4</th>\n",
       "      <td>5</td>\n",
       "      <td>7</td>\n",
       "      <td>2</td>\n",
       "    </tr>\n",
       "  </tbody>\n",
       "</table>\n",
       "</div>"
      ],
      "text/plain": [
       "   3,000  3,969  640\n",
       "0      3      9    5\n",
       "1      5      9    1\n",
       "2      8      1    8\n",
       "3      5      7    8\n",
       "4      5      7    2"
      ]
     },
     "execution_count": 1,
     "metadata": {},
     "output_type": "execute_result"
    }
   ],
   "source": [
    "# we'll use pandas' dataframes\n",
    "import pandas as pd\n",
    "# we claim that this is a solution\n",
    "d = {'3,000': [3,5,8,5,5], '3,969': [9,9,1,7,7], '640': [5,1,8,8,2]}\n",
    "df = pd.DataFrame(data=d)\n",
    "df"
   ]
  },
  {
   "cell_type": "markdown",
   "id": "bronze-monkey",
   "metadata": {},
   "source": [
    "So we check each of the rows now "
   ]
  },
  {
   "cell_type": "code",
   "execution_count": 2,
   "id": "bulgarian-collapse",
   "metadata": {},
   "outputs": [
    {
     "data": {
      "text/html": [
       "<div>\n",
       "<style scoped>\n",
       "    .dataframe tbody tr th:only-of-type {\n",
       "        vertical-align: middle;\n",
       "    }\n",
       "\n",
       "    .dataframe tbody tr th {\n",
       "        vertical-align: top;\n",
       "    }\n",
       "\n",
       "    .dataframe thead th {\n",
       "        text-align: right;\n",
       "    }\n",
       "</style>\n",
       "<table border=\"1\" class=\"dataframe\">\n",
       "  <thead>\n",
       "    <tr style=\"text-align: right;\">\n",
       "      <th></th>\n",
       "      <th>3,000</th>\n",
       "      <th>3,969</th>\n",
       "      <th>640</th>\n",
       "      <th>products</th>\n",
       "    </tr>\n",
       "  </thead>\n",
       "  <tbody>\n",
       "    <tr>\n",
       "      <th>0</th>\n",
       "      <td>3</td>\n",
       "      <td>9</td>\n",
       "      <td>5</td>\n",
       "      <td>135</td>\n",
       "    </tr>\n",
       "    <tr>\n",
       "      <th>1</th>\n",
       "      <td>5</td>\n",
       "      <td>9</td>\n",
       "      <td>1</td>\n",
       "      <td>45</td>\n",
       "    </tr>\n",
       "    <tr>\n",
       "      <th>2</th>\n",
       "      <td>8</td>\n",
       "      <td>1</td>\n",
       "      <td>8</td>\n",
       "      <td>64</td>\n",
       "    </tr>\n",
       "    <tr>\n",
       "      <th>3</th>\n",
       "      <td>5</td>\n",
       "      <td>7</td>\n",
       "      <td>8</td>\n",
       "      <td>280</td>\n",
       "    </tr>\n",
       "    <tr>\n",
       "      <th>4</th>\n",
       "      <td>5</td>\n",
       "      <td>7</td>\n",
       "      <td>2</td>\n",
       "      <td>70</td>\n",
       "    </tr>\n",
       "  </tbody>\n",
       "</table>\n",
       "</div>"
      ],
      "text/plain": [
       "   3,000  3,969  640  products\n",
       "0      3      9    5       135\n",
       "1      5      9    1        45\n",
       "2      8      1    8        64\n",
       "3      5      7    8       280\n",
       "4      5      7    2        70"
      ]
     },
     "execution_count": 2,
     "metadata": {},
     "output_type": "execute_result"
    }
   ],
   "source": [
    "# note that using df.products syntax to create a new column\n",
    "# is illegal in pandas\n",
    "# also the () around the column calculations are optional\n",
    "df['products'] = (df['3,000'] * df['3,969'] *  df['640'])\n",
    "df"
   ]
  },
  {
   "cell_type": "markdown",
   "id": "regular-collective",
   "metadata": {},
   "source": [
    "and we double-check all of the columns: "
   ]
  },
  {
   "cell_type": "code",
   "execution_count": 3,
   "id": "smooth-canon",
   "metadata": {},
   "outputs": [
    {
     "name": "stdout",
     "output_type": "stream",
     "text": [
      "Our number 3,000 should equal 3000\n",
      "Our number 3,969 should equal 3969\n",
      "Our number 640 should equal 640\n"
     ]
    }
   ],
   "source": [
    "import numpy as np\n",
    "for col in df.columns[:-1]:\n",
    "    print(f'Our number {col} should equal {np.prod(df[col])}')"
   ]
  },
  {
   "cell_type": "code",
   "execution_count": null,
   "id": "romance-placement",
   "metadata": {},
   "outputs": [],
   "source": []
  }
 ],
 "metadata": {
  "kernelspec": {
   "display_name": "Python 3",
   "language": "python",
   "name": "python3"
  },
  "language_info": {
   "codemirror_mode": {
    "name": "ipython",
    "version": 3
   },
   "file_extension": ".py",
   "mimetype": "text/x-python",
   "name": "python",
   "nbconvert_exporter": "python",
   "pygments_lexer": "ipython3",
   "version": "3.7.9"
  }
 },
 "nbformat": 4,
 "nbformat_minor": 5
}
