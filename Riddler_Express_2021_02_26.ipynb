{
 "cells": [
  {
   "cell_type": "markdown",
   "id": "heard-penalty",
   "metadata": {},
   "source": [
    "# Riddler Express\n",
    "### February 26, 2021\n",
    "https://fivethirtyeight.com/features/how-many-ways-can-you-build-a-staircase/"
   ]
  },
  {
   "cell_type": "markdown",
   "id": "structured-cisco",
   "metadata": {},
   "source": [
    "This is really more of a pen-and-paper problem, but we can display and check our solution with a python notebook so we do so here."
   ]
  },
  {
   "cell_type": "code",
   "execution_count": 1,
   "id": "imposed-cancer",
   "metadata": {},
   "outputs": [
    {
     "data": {
      "text/html": [
       "<div>\n",
       "<style scoped>\n",
       "    .dataframe tbody tr th:only-of-type {\n",
       "        vertical-align: middle;\n",
       "    }\n",
       "\n",
       "    .dataframe tbody tr th {\n",
       "        vertical-align: top;\n",
       "    }\n",
       "\n",
       "    .dataframe thead th {\n",
       "        text-align: right;\n",
       "    }\n",
       "</style>\n",
       "<table border=\"1\" class=\"dataframe\">\n",
       "  <thead>\n",
       "    <tr style=\"text-align: right;\">\n",
       "      <th></th>\n",
       "      <th>960</th>\n",
       "      <th>384</th>\n",
       "      <th>630</th>\n",
       "      <th>270</th>\n",
       "    </tr>\n",
       "  </thead>\n",
       "  <tbody>\n",
       "    <tr>\n",
       "      <th>0</th>\n",
       "      <td>3</td>\n",
       "      <td>6</td>\n",
       "      <td>9</td>\n",
       "      <td>9</td>\n",
       "    </tr>\n",
       "    <tr>\n",
       "      <th>1</th>\n",
       "      <td>8</td>\n",
       "      <td>8</td>\n",
       "      <td>2</td>\n",
       "      <td>1</td>\n",
       "    </tr>\n",
       "    <tr>\n",
       "      <th>2</th>\n",
       "      <td>8</td>\n",
       "      <td>8</td>\n",
       "      <td>7</td>\n",
       "      <td>6</td>\n",
       "    </tr>\n",
       "    <tr>\n",
       "      <th>3</th>\n",
       "      <td>5</td>\n",
       "      <td>1</td>\n",
       "      <td>5</td>\n",
       "      <td>5</td>\n",
       "    </tr>\n",
       "  </tbody>\n",
       "</table>\n",
       "</div>"
      ],
      "text/plain": [
       "   960  384  630  270\n",
       "0    3    6    9    9\n",
       "1    8    8    2    1\n",
       "2    8    8    7    6\n",
       "3    5    1    5    5"
      ]
     },
     "execution_count": 1,
     "metadata": {},
     "output_type": "execute_result"
    }
   ],
   "source": [
    "# we'll use pandas' dataframes\n",
    "import pandas as pd\n",
    "# we claim that this is a solution\n",
    "d = {'960': [3,8,8,5], '384': [6,8,8,1], '630': [9,2,7,5], '270': [9,1,6,5]}\n",
    "df = pd.DataFrame(data=d)\n",
    "df"
   ]
  },
  {
   "cell_type": "markdown",
   "id": "national-blame",
   "metadata": {},
   "source": [
    "So we check each of the rows now "
   ]
  },
  {
   "cell_type": "code",
   "execution_count": 2,
   "id": "spiritual-profit",
   "metadata": {},
   "outputs": [
    {
     "data": {
      "text/html": [
       "<div>\n",
       "<style scoped>\n",
       "    .dataframe tbody tr th:only-of-type {\n",
       "        vertical-align: middle;\n",
       "    }\n",
       "\n",
       "    .dataframe tbody tr th {\n",
       "        vertical-align: top;\n",
       "    }\n",
       "\n",
       "    .dataframe thead th {\n",
       "        text-align: right;\n",
       "    }\n",
       "</style>\n",
       "<table border=\"1\" class=\"dataframe\">\n",
       "  <thead>\n",
       "    <tr style=\"text-align: right;\">\n",
       "      <th></th>\n",
       "      <th>960</th>\n",
       "      <th>384</th>\n",
       "      <th>630</th>\n",
       "      <th>270</th>\n",
       "      <th>row products</th>\n",
       "    </tr>\n",
       "  </thead>\n",
       "  <tbody>\n",
       "    <tr>\n",
       "      <th>0</th>\n",
       "      <td>3</td>\n",
       "      <td>6</td>\n",
       "      <td>9</td>\n",
       "      <td>9</td>\n",
       "      <td>1458</td>\n",
       "    </tr>\n",
       "    <tr>\n",
       "      <th>1</th>\n",
       "      <td>8</td>\n",
       "      <td>8</td>\n",
       "      <td>2</td>\n",
       "      <td>1</td>\n",
       "      <td>128</td>\n",
       "    </tr>\n",
       "    <tr>\n",
       "      <th>2</th>\n",
       "      <td>8</td>\n",
       "      <td>8</td>\n",
       "      <td>7</td>\n",
       "      <td>6</td>\n",
       "      <td>2688</td>\n",
       "    </tr>\n",
       "    <tr>\n",
       "      <th>3</th>\n",
       "      <td>5</td>\n",
       "      <td>1</td>\n",
       "      <td>5</td>\n",
       "      <td>5</td>\n",
       "      <td>125</td>\n",
       "    </tr>\n",
       "  </tbody>\n",
       "</table>\n",
       "</div>"
      ],
      "text/plain": [
       "   960  384  630  270  row products\n",
       "0    3    6    9    9          1458\n",
       "1    8    8    2    1           128\n",
       "2    8    8    7    6          2688\n",
       "3    5    1    5    5           125"
      ]
     },
     "execution_count": 2,
     "metadata": {},
     "output_type": "execute_result"
    }
   ],
   "source": [
    "# we adapt to this to avoid having to manually update column names each time\n",
    "df['row products'] = pd.Series([1]*df.shape[0])\n",
    "\n",
    "# up to the last element bc the last element is \"products\"\n",
    "for col_label in df.columns[:-1]:\n",
    "    df['row products'] = (df['row products'] * df[col_label])\n",
    "df"
   ]
  },
  {
   "cell_type": "markdown",
   "id": "turkish-greenhouse",
   "metadata": {},
   "source": [
    "and we double-check all of the columns: "
   ]
  },
  {
   "cell_type": "code",
   "execution_count": 3,
   "id": "turned-vessel",
   "metadata": {},
   "outputs": [
    {
     "name": "stdout",
     "output_type": "stream",
     "text": [
      "The product of the numbers in our column 960 should equal 960\n",
      "The product of the numbers in our column 384 should equal 384\n",
      "The product of the numbers in our column 630 should equal 630\n",
      "The product of the numbers in our column 270 should equal 270\n"
     ]
    }
   ],
   "source": [
    "import numpy as np\n",
    "for col in df.columns[:-1]:\n",
    "    print(f'The product of the numbers in our column {col} should equal {np.prod(df[col])}')"
   ]
  },
  {
   "cell_type": "code",
   "execution_count": null,
   "id": "accepting-boxing",
   "metadata": {},
   "outputs": [],
   "source": []
  }
 ],
 "metadata": {
  "kernelspec": {
   "display_name": "Python 3",
   "language": "python",
   "name": "python3"
  },
  "language_info": {
   "codemirror_mode": {
    "name": "ipython",
    "version": 3
   },
   "file_extension": ".py",
   "mimetype": "text/x-python",
   "name": "python",
   "nbconvert_exporter": "python",
   "pygments_lexer": "ipython3",
   "version": "3.7.9"
  }
 },
 "nbformat": 4,
 "nbformat_minor": 5
}
