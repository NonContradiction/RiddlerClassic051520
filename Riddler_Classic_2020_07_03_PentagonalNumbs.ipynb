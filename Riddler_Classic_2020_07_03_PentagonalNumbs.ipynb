{
 "cells": [
  {
   "cell_type": "code",
   "execution_count": 26,
   "metadata": {},
   "outputs": [
    {
     "name": "stdout",
     "output_type": "stream",
     "text": [
      "The seed x is  0\n",
      "Its centered pentagonal number is  1\n",
      "One less than it is twice this square:  0\n",
      "The seed x is  4\n",
      "Its centered pentagonal number is  51\n",
      "One less than it is twice this square:  25\n",
      "The seed x is  80\n",
      "Its centered pentagonal number is  16201\n",
      "One less than it is twice this square:  8100\n"
     ]
    }
   ],
   "source": [
    "#Needed for the square root function\n",
    "import math\n",
    "\n",
    "#We could incorporate this below but modularization is nicer\n",
    "def cpn(x):\n",
    "    mynumb = (5 * x**2 + 5 * x + 2) / 2\n",
    "    return mynumb\n",
    "\n",
    "#trial represents the x's which are fed into the cpn function; beginning low or with 0 is sensible, though we could skip to 5 knowing the answer of 50\n",
    "trial = 0\n",
    "\n",
    "#How many do we want? Specify this below: \n",
    "beta = 0\n",
    "while (beta < 3):\n",
    "    sqqq = (cpn(trial) - 1) / 2\n",
    "    if math.sqrt(sqqq) == int(math.sqrt(sqqq)):\n",
    "        print(\"The seed x is \", trial)\n",
    "        print(\"Its centered pentagonal number is \", int(cpn(trial)))\n",
    "        print(\"One less than it is twice this square: \", int(sqqq))\n",
    "        beta += 1\n",
    "    trial += 1"
   ]
  },
  {
   "cell_type": "code",
   "execution_count": null,
   "metadata": {},
   "outputs": [],
   "source": []
  }
 ],
 "metadata": {
  "kernelspec": {
   "display_name": "Python 3",
   "language": "python",
   "name": "python3"
  },
  "language_info": {
   "codemirror_mode": {
    "name": "ipython",
    "version": 3
   },
   "file_extension": ".py",
   "mimetype": "text/x-python",
   "name": "python",
   "nbconvert_exporter": "python",
   "pygments_lexer": "ipython3",
   "version": "3.7.3"
  }
 },
 "nbformat": 4,
 "nbformat_minor": 2
}
