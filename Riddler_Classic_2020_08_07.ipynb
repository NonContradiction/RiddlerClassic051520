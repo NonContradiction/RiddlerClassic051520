{
 "cells": [
  {
   "cell_type": "markdown",
   "metadata": {},
   "source": [
    "# Riddler Classic\n",
    "### For this puzzle: https://fivethirtyeight.com/features/can-you-reach-the-beach/"
   ]
  },
  {
   "cell_type": "code",
   "execution_count": 1,
   "metadata": {},
   "outputs": [],
   "source": [
    "#General imports for the math: \n",
    "import math\n",
    "import scipy\n",
    "from scipy import special\n",
    "from collections import defaultdict \n",
    "\n",
    "#These are for plotting: \n",
    "import matplotlib\n",
    "import matplotlib.pyplot as plt\n",
    "import numpy as np\n",
    "%matplotlib inline\n",
    "\n",
    "#This func is for the defaultdict: \n",
    "def def_value(): \n",
    "    return 0"
   ]
  },
  {
   "cell_type": "code",
   "execution_count": 2,
   "metadata": {},
   "outputs": [],
   "source": [
    "#This function takes a dictionary of parallel nodes and probs and returns a dictionary of the next level of parallel nodes&probs\n",
    "def intermediate(int_dict):\n",
    "    ans_dict = defaultdict(def_value)\n",
    "    for entry in int_dict:         \n",
    "        #print(\"entry: \", entry)\n",
    "        pairs_init = math.floor(entry/2)\n",
    "        #print('pairs_init: ', pairs_init)\n",
    "        myremainder = entry % 2\n",
    "        for i in range(pairs_init+1):\n",
    "            #print('i: ', i)\n",
    "            #print(\"next: \", pairs_init*2 + myremainder + i)\n",
    "            ans_dict[pairs_init*2 + myremainder + i] += (.5)**pairs_init * scipy.special.comb(pairs_init, i) * int_dict[entry]\n",
    "    return ans_dict"
   ]
  },
  {
   "cell_type": "code",
   "execution_count": 3,
   "metadata": {},
   "outputs": [],
   "source": [
    "#This func takes a layer of a tree. i.e. a dict of possible outcomes and possibilities\n",
    "#And returns their weighted average as a simple vector\n",
    "#Readily adapted to other expected value contexts or problems\n",
    "\n",
    "def exp_val(fin_dict):\n",
    "    my_ex = 0\n",
    "    for entry in fin_dict:\n",
    "        my_ex += entry * fin_dict[entry]\n",
    "    return my_ex"
   ]
  },
  {
   "cell_type": "code",
   "execution_count": 4,
   "metadata": {},
   "outputs": [],
   "source": [
    "#The arch-function\n",
    "#That sums two numbers x and y\n",
    "#And returns the expected value after N days\n",
    "\n",
    "def nematodes(x, y, n=1):\n",
    "    sum_init = (x+y)\n",
    "    first_dict = defaultdict(def_value)\n",
    "    first_dict[x+y] = 1\n",
    "    mydicts = [first_dict]\n",
    "    for i in range(n):\n",
    "        nextone = intermediate(mydicts[i])\n",
    "        mydicts.append(nextone)\n",
    "    thexp = exp_val(mydicts[-1])\n",
    "    return thexp"
   ]
  },
  {
   "cell_type": "code",
   "execution_count": 5,
   "metadata": {},
   "outputs": [],
   "source": [
    "#A modification that saves each day's value until the terminus\n",
    "#Useful for examining growth over time\n",
    "\n",
    "def nematodes_limit(x, y, n=1):\n",
    "    sum_init = (x+y)\n",
    "    first_dict = defaultdict(def_value)\n",
    "    first_dict[x+y] = 1\n",
    "    mydicts = [first_dict]\n",
    "    for i in range(n):\n",
    "        nextone = intermediate(mydicts[i])\n",
    "        mydicts.append(nextone)\n",
    "    thexps = [exp_val(mydicts[j]) for j in range(len(mydicts))]\n",
    "    return thexps"
   ]
  },
  {
   "cell_type": "code",
   "execution_count": 6,
   "metadata": {},
   "outputs": [
    {
     "name": "stdout",
     "output_type": "stream",
     "text": [
      "3.0\n",
      "3.625\n"
     ]
    }
   ],
   "source": [
    "#Trial run: \n",
    "\n",
    "mysecond = defaultdict(def_value)\n",
    "#Manually construct (1+1) after 1 day, then do the next two: \n",
    "mysecond[2] = .5\n",
    "mysecond[3] = .5\n",
    "trythisout = intermediate(mysecond)\n",
    "secondgo = intermediate(trythisout)\n",
    "print(exp_val(trythisout))\n",
    "print(exp_val(secondgo))"
   ]
  },
  {
   "cell_type": "code",
   "execution_count": 7,
   "metadata": {},
   "outputs": [
    {
     "data": {
      "text/plain": [
       "4.40625"
      ]
     },
     "execution_count": 7,
     "metadata": {},
     "output_type": "execute_result"
    }
   ],
   "source": [
    "#And the answer is . . . !\n",
    "nematodes(1, 1, 4)"
   ]
  },
  {
   "cell_type": "code",
   "execution_count": 8,
   "metadata": {},
   "outputs": [
    {
     "name": "stdout",
     "output_type": "stream",
     "text": [
      "Wall time: 10.3 s\n"
     ]
    },
    {
     "data": {
      "text/plain": [
       "[2,\n",
       " 2.5,\n",
       " 3.0,\n",
       " 3.625,\n",
       " 4.40625,\n",
       " 5.3828125,\n",
       " 6.603515625,\n",
       " 8.12939453125,\n",
       " 10.0367431640625,\n",
       " 12.420928955078123,\n",
       " 15.401161193847647,\n",
       " 19.12645149230957,\n",
       " 23.783064365386966,\n",
       " 29.603830456733714,\n",
       " 36.879788070917165,\n",
       " 45.97473508864643,\n",
       " 57.343418860808015,\n",
       " 71.55427357601005,\n",
       " 89.31784197001237]"
      ]
     },
     "execution_count": 8,
     "metadata": {},
     "output_type": "execute_result"
    }
   ],
   "source": [
    "%%time\n",
    "#Extra Credit: \n",
    "#So, what does the E[(1+1)**N] approach for ever-larger values of N?\n",
    "nematodes_limit(1, 1, 18)"
   ]
  },
  {
   "cell_type": "code",
   "execution_count": 9,
   "metadata": {},
   "outputs": [],
   "source": [
    "#Now to save the values for a graph\n",
    "\n",
    "indices = np.arange(0, 19, 1)\n",
    "growth = nematodes_limit(1, 1, 18)"
   ]
  },
  {
   "cell_type": "code",
   "execution_count": 10,
   "metadata": {},
   "outputs": [
    {
     "data": {
      "image/png": "[encoded data removed]",
      "text/plain": [
       "<Figure size 432x288 with 1 Axes>"
      ]
     },
     "metadata": {
      "needs_background": "light"
     },
     "output_type": "display_data"
    }
   ],
   "source": [
    "#And to construct an elaborate graph with the help of https://matplotlib.org/gallery/lines_bars_and_markers/simple_plot.html\n",
    "\n",
    "fig, ax = plt.subplots()\n",
    "\n",
    "ax.plot(indices, growth)\n",
    "\n",
    "ax.set(xlabel='N: Number of 24-hour periods', ylabel='E[X] of Nematode Sum, computed for each day',\n",
    "       title='Expected Value of the Exponentiated Nematode Sum (1+1)^N')\n",
    "ax.grid()\n",
    "\n",
    "fig.savefig(\"nematodesum.png\")\n",
    "plt.show()"
   ]
  },
  {
   "cell_type": "code",
   "execution_count": null,
   "metadata": {},
   "outputs": [],
   "source": []
  },
  {
   "cell_type": "code",
   "execution_count": null,
   "metadata": {},
   "outputs": [],
   "source": []
  }
 ],
 "metadata": {
  "kernelspec": {
   "display_name": "Python 3",
   "language": "python",
   "name": "python3"
  },
  "language_info": {
   "codemirror_mode": {
    "name": "ipython",
    "version": 3
   },
   "file_extension": ".py",
   "mimetype": "text/x-python",
   "name": "python",
   "nbconvert_exporter": "python",
   "pygments_lexer": "ipython3",
   "version": "3.7.7"
  }
 },
 "nbformat": 4,
 "nbformat_minor": 2
}
