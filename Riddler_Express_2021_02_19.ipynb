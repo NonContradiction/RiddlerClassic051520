{
 "cells": [
  {
   "cell_type": "markdown",
   "id": "welcome-hierarchy",
   "metadata": {},
   "source": [
    "# Riddler Express\n",
    "### February 19, 2021\n",
    "https://fivethirtyeight.com/features/can-you-win-riddler-jenga/"
   ]
  },
  {
   "cell_type": "markdown",
   "id": "previous-guitar",
   "metadata": {},
   "source": [
    "This is really more of a pen-and-paper problem, but we can display and check our solution with a python notebook so we do so here."
   ]
  },
  {
   "cell_type": "code",
   "execution_count": 1,
   "id": "noted-guard",
   "metadata": {},
   "outputs": [
    {
     "data": {
      "text/html": [
       "<div>\n",
       "<style scoped>\n",
       "    .dataframe tbody tr th:only-of-type {\n",
       "        vertical-align: middle;\n",
       "    }\n",
       "\n",
       "    .dataframe tbody tr th {\n",
       "        vertical-align: top;\n",
       "    }\n",
       "\n",
       "    .dataframe thead th {\n",
       "        text-align: right;\n",
       "    }\n",
       "</style>\n",
       "<table border=\"1\" class=\"dataframe\">\n",
       "  <thead>\n",
       "    <tr style=\"text-align: right;\">\n",
       "      <th></th>\n",
       "      <th>183,708</th>\n",
       "      <th>245,760</th>\n",
       "      <th>117,600</th>\n",
       "    </tr>\n",
       "  </thead>\n",
       "  <tbody>\n",
       "    <tr>\n",
       "      <th>0</th>\n",
       "      <td>7</td>\n",
       "      <td>8</td>\n",
       "      <td>5</td>\n",
       "    </tr>\n",
       "    <tr>\n",
       "      <th>1</th>\n",
       "      <td>3</td>\n",
       "      <td>8</td>\n",
       "      <td>7</td>\n",
       "    </tr>\n",
       "    <tr>\n",
       "      <th>2</th>\n",
       "      <td>9</td>\n",
       "      <td>6</td>\n",
       "      <td>3</td>\n",
       "    </tr>\n",
       "    <tr>\n",
       "      <th>3</th>\n",
       "      <td>9</td>\n",
       "      <td>8</td>\n",
       "      <td>5</td>\n",
       "    </tr>\n",
       "    <tr>\n",
       "      <th>4</th>\n",
       "      <td>3</td>\n",
       "      <td>5</td>\n",
       "      <td>4</td>\n",
       "    </tr>\n",
       "    <tr>\n",
       "      <th>5</th>\n",
       "      <td>4</td>\n",
       "      <td>8</td>\n",
       "      <td>8</td>\n",
       "    </tr>\n",
       "    <tr>\n",
       "      <th>6</th>\n",
       "      <td>9</td>\n",
       "      <td>2</td>\n",
       "      <td>7</td>\n",
       "    </tr>\n",
       "  </tbody>\n",
       "</table>\n",
       "</div>"
      ],
      "text/plain": [
       "   183,708  245,760  117,600\n",
       "0        7        8        5\n",
       "1        3        8        7\n",
       "2        9        6        3\n",
       "3        9        8        5\n",
       "4        3        5        4\n",
       "5        4        8        8\n",
       "6        9        2        7"
      ]
     },
     "execution_count": 1,
     "metadata": {},
     "output_type": "execute_result"
    }
   ],
   "source": [
    "# we'll use pandas' dataframes\n",
    "import pandas as pd\n",
    "# we claim that this is a solution\n",
    "d = {'183,708': [7,3,9,9,3,4,9], '245,760': [8,8,6,8,5,8,2], '117,600': [5,7,3,5,4,8,7]}\n",
    "df = pd.DataFrame(data=d)\n",
    "df"
   ]
  },
  {
   "cell_type": "markdown",
   "id": "irish-lending",
   "metadata": {},
   "source": [
    "So we check each of the rows now "
   ]
  },
  {
   "cell_type": "code",
   "execution_count": 2,
   "id": "coral-content",
   "metadata": {},
   "outputs": [
    {
     "data": {
      "text/html": [
       "<div>\n",
       "<style scoped>\n",
       "    .dataframe tbody tr th:only-of-type {\n",
       "        vertical-align: middle;\n",
       "    }\n",
       "\n",
       "    .dataframe tbody tr th {\n",
       "        vertical-align: top;\n",
       "    }\n",
       "\n",
       "    .dataframe thead th {\n",
       "        text-align: right;\n",
       "    }\n",
       "</style>\n",
       "<table border=\"1\" class=\"dataframe\">\n",
       "  <thead>\n",
       "    <tr style=\"text-align: right;\">\n",
       "      <th></th>\n",
       "      <th>183,708</th>\n",
       "      <th>245,760</th>\n",
       "      <th>117,600</th>\n",
       "      <th>row products</th>\n",
       "    </tr>\n",
       "  </thead>\n",
       "  <tbody>\n",
       "    <tr>\n",
       "      <th>0</th>\n",
       "      <td>7</td>\n",
       "      <td>8</td>\n",
       "      <td>5</td>\n",
       "      <td>280</td>\n",
       "    </tr>\n",
       "    <tr>\n",
       "      <th>1</th>\n",
       "      <td>3</td>\n",
       "      <td>8</td>\n",
       "      <td>7</td>\n",
       "      <td>168</td>\n",
       "    </tr>\n",
       "    <tr>\n",
       "      <th>2</th>\n",
       "      <td>9</td>\n",
       "      <td>6</td>\n",
       "      <td>3</td>\n",
       "      <td>162</td>\n",
       "    </tr>\n",
       "    <tr>\n",
       "      <th>3</th>\n",
       "      <td>9</td>\n",
       "      <td>8</td>\n",
       "      <td>5</td>\n",
       "      <td>360</td>\n",
       "    </tr>\n",
       "    <tr>\n",
       "      <th>4</th>\n",
       "      <td>3</td>\n",
       "      <td>5</td>\n",
       "      <td>4</td>\n",
       "      <td>60</td>\n",
       "    </tr>\n",
       "    <tr>\n",
       "      <th>5</th>\n",
       "      <td>4</td>\n",
       "      <td>8</td>\n",
       "      <td>8</td>\n",
       "      <td>256</td>\n",
       "    </tr>\n",
       "    <tr>\n",
       "      <th>6</th>\n",
       "      <td>9</td>\n",
       "      <td>2</td>\n",
       "      <td>7</td>\n",
       "      <td>126</td>\n",
       "    </tr>\n",
       "  </tbody>\n",
       "</table>\n",
       "</div>"
      ],
      "text/plain": [
       "   183,708  245,760  117,600  row products\n",
       "0        7        8        5           280\n",
       "1        3        8        7           168\n",
       "2        9        6        3           162\n",
       "3        9        8        5           360\n",
       "4        3        5        4            60\n",
       "5        4        8        8           256\n",
       "6        9        2        7           126"
      ]
     },
     "execution_count": 2,
     "metadata": {},
     "output_type": "execute_result"
    }
   ],
   "source": [
    "# we adapt to this to avoid having to manually update column names each time\n",
    "df['row products'] = pd.Series([1]*df.shape[0])\n",
    "\n",
    "# up to the last element bc the last element is \"products\"\n",
    "for col_label in df.columns[:-1]:\n",
    "    df['row products'] = (df['row products'] * df[col_label])\n",
    "df"
   ]
  },
  {
   "cell_type": "markdown",
   "id": "informative-bulgaria",
   "metadata": {},
   "source": [
    "and we double-check all of the columns: "
   ]
  },
  {
   "cell_type": "code",
   "execution_count": 3,
   "id": "female-party",
   "metadata": {},
   "outputs": [
    {
     "name": "stdout",
     "output_type": "stream",
     "text": [
      "The product of the numbers in our column 183,708 should equal 183708\n",
      "The product of the numbers in our column 245,760 should equal 245760\n",
      "The product of the numbers in our column 117,600 should equal 117600\n"
     ]
    }
   ],
   "source": [
    "import numpy as np\n",
    "for col in df.columns[:-1]:\n",
    "    print(f'The product of the numbers in our column {col} should equal {np.prod(df[col])}')"
   ]
  },
  {
   "cell_type": "code",
   "execution_count": null,
   "id": "nearby-surfing",
   "metadata": {},
   "outputs": [],
   "source": []
  }
 ],
 "metadata": {
  "kernelspec": {
   "display_name": "Python 3",
   "language": "python",
   "name": "python3"
  },
  "language_info": {
   "codemirror_mode": {
    "name": "ipython",
    "version": 3
   },
   "file_extension": ".py",
   "mimetype": "text/x-python",
   "name": "python",
   "nbconvert_exporter": "python",
   "pygments_lexer": "ipython3",
   "version": "3.7.9"
  }
 },
 "nbformat": 4,
 "nbformat_minor": 5
}
