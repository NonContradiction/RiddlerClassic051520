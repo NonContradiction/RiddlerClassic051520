{
 "cells": [
  {
   "cell_type": "markdown",
   "metadata": {},
   "source": [
    "# Riddler Express November 26, 2021"
   ]
  },
  {
   "cell_type": "markdown",
   "metadata": {},
   "source": [
    "From: https://fivethirtyeight.com/features/can-you-win-a-lifetime-supply-of-cranberry-sauce/"
   ]
  },
  {
   "cell_type": "markdown",
   "metadata": {},
   "source": [
    "From Keith Wynrow comes a clever little puzzle that stumped a few folks on social media:\n",
    "\n",
    "On the Food Network’s latest game show, Cranberries or Bust, you have a choice between two doors: A and B. One door has a lifetime supply of cranberry sauce behind it, while the other door has absolutely nothing behind it. And boy, do you love cranberry sauce.\n",
    "\n",
    "Of course, there’s a twist. The host presents you with a coin with two sides, marked A and B, which correspond to each door. The host tells you that the coin is weighted in favor of the cranberry door — without telling you which door that is — and that door’s letter will turn up 60 percent of the time. For example, if the sauce is behind door A, then the coin will turn up A 60 percent of the time and B the remaining 40 percent of the time.\n",
    "\n",
    "You can flip the coin twice, after which you must make your selection. Assuming you optimize your strategy, what are your chances of choosing the door with the cranberry sauce?"
   ]
  },
  {
   "cell_type": "markdown",
   "metadata": {},
   "source": [
    "## Solution"
   ]
  },
  {
   "cell_type": "markdown",
   "metadata": {},
   "source": [
    "We consider all of the outcomes and their respective probabilities. With 2 flips, we receive either 2 matching flips or 2 contradictory flips, for 4 total possible outcomes, viz.: \n",
    "\n",
    "$\\{cran, cran\\}$\n",
    "\n",
    "$\\{cran, not\\}$\n",
    "\n",
    "$\\{not, cran\\}$\n",
    "\n",
    "$\\{not, not\\}$"
   ]
  },
  {
   "cell_type": "markdown",
   "metadata": {},
   "source": [
    "For the purpose of computing the probability that we win the cranberry sauce, we consider that our optimized strategy is: if the letters match, choose that door; otherwise, pick an arbitrary door. In the case of $\\{cran, cran\\}$ and 50% of the time in conflicted flips, we win."
   ]
  },
  {
   "cell_type": "markdown",
   "metadata": {},
   "source": [
    "We compute the respective probabilities thus: "
   ]
  },
  {
   "cell_type": "code",
   "execution_count": 1,
   "metadata": {},
   "outputs": [],
   "source": [
    "cran = .6\n",
    "notcran = 1 - cran\n",
    "\n",
    "print(f'cran * cran = {cran * cran}')\n",
    "print(f'cran * not = {cran * notcran}')\n",
    "print(f'not * cran = {notcran * cran}')\n",
    "print(f'not * not = {notcran * notcran}')"
   ]
  },
  {
   "cell_type": "markdown",
   "metadata": {},
   "source": [
    "(Obviously that fraction of a percent there is a bit of Pythonic Compsci weirdness.)"
   ]
  },
  {
   "cell_type": "markdown",
   "metadata": {},
   "source": [
    "We win in the event of the .36 outcome and half of the 0.24 + 0.24 outcomes (which is 0.24), for 0.36 + 0.24 = 0.6 = **60% chance of winning**. "
   ]
  },
  {
   "cell_type": "markdown",
   "metadata": {},
   "source": [
    "Extra credit: Instead of two flips, what if you are allowed three or four flips? Now what are your chances of choosing the door with the cranberry sauce?"
   ]
  },
  {
   "cell_type": "markdown",
   "metadata": {},
   "source": [
    "## Extra Credit Solution"
   ]
  },
  {
   "cell_type": "markdown",
   "metadata": {},
   "source": [
    "As established, we optimize our strategy by choosing the most-represented coin flip or by choosing at random in the case of a tie. Thus, for arbitrarily many flips, we win whenever the cranberry flips do in fact surface. Thus, "
   ]
  },
  {
   "cell_type": "code",
   "execution_count": 2,
   "metadata": {},
   "outputs": [],
   "source": [
    "import math"
   ]
  },
  {
   "cell_type": "code",
   "execution_count": 3,
   "metadata": {},
   "outputs": [],
   "source": [
    "def binom(n, k):\n",
    "    return math.factorial(n) // math.factorial(k) // math.factorial(n - k)"
   ]
  },
  {
   "cell_type": "code",
   "execution_count": 4,
   "metadata": {},
   "outputs": [],
   "source": [
    "def cranberries(numflips = 2, cranprob = 0.6):\n",
    "    notcran = 1 - cranprob\n",
    "    winchance = 0\n",
    "    for i in range(numflips+1):\n",
    "        if i > 0.5*numflips:\n",
    "            winchance += (binom(numflips, i) * cranprob**(i) * notcran**(numflips-i))\n",
    "        elif i == 0.5*numflips: \n",
    "            winchance += 0.5 * (binom(numflips, i) * cranprob**(i) * notcran**(numflips-i))\n",
    "    print(f'{winchance*100}%')\n",
    "    return winchance"
   ]
  },
  {
   "cell_type": "markdown",
   "metadata": {},
   "source": [
    "Does it comport with what we know?"
   ]
  },
  {
   "cell_type": "code",
   "execution_count": 5,
   "metadata": {},
   "outputs": [
    {
     "name": "stdout",
     "output_type": "stream",
     "text": [
      "60.0%\n"
     ]
    },
    {
     "data": {
      "text/plain": [
       "0.6"
      ]
     },
     "execution_count": 5,
     "metadata": {},
     "output_type": "execute_result"
    }
   ],
   "source": [
    "cranberries(numflips = 2)"
   ]
  },
  {
   "cell_type": "markdown",
   "metadata": {},
   "source": [
    "Great! Let's do 3 and 4. "
   ]
  },
  {
   "cell_type": "code",
   "execution_count": 6,
   "metadata": {},
   "outputs": [
    {
     "name": "stdout",
     "output_type": "stream",
     "text": [
      "64.8%\n"
     ]
    },
    {
     "data": {
      "text/plain": [
       "0.648"
      ]
     },
     "execution_count": 6,
     "metadata": {},
     "output_type": "execute_result"
    }
   ],
   "source": [
    "cranberries(numflips = 3)"
   ]
  },
  {
   "cell_type": "code",
   "execution_count": 7,
   "metadata": {},
   "outputs": [
    {
     "name": "stdout",
     "output_type": "stream",
     "text": [
      "64.8%\n"
     ]
    },
    {
     "data": {
      "text/plain": [
       "0.6479999999999999"
      ]
     },
     "execution_count": 7,
     "metadata": {},
     "output_type": "execute_result"
    }
   ],
   "source": [
    "cranberries(numflips = 4)"
   ]
  },
  {
   "cell_type": "markdown",
   "metadata": {},
   "source": [
    "Huh. It seems not to improve from 3 to 4...which is certainly counterintuitive. Let's do more. "
   ]
  },
  {
   "cell_type": "code",
   "execution_count": 8,
   "metadata": {},
   "outputs": [
    {
     "name": "stdout",
     "output_type": "stream",
     "text": [
      "68.256%\n"
     ]
    },
    {
     "data": {
      "text/plain": [
       "0.68256"
      ]
     },
     "execution_count": 8,
     "metadata": {},
     "output_type": "execute_result"
    }
   ],
   "source": [
    "cranberries(numflips = 5)"
   ]
  },
  {
   "cell_type": "code",
   "execution_count": 9,
   "metadata": {},
   "outputs": [
    {
     "name": "stdout",
     "output_type": "stream",
     "text": [
      "68.256%\n"
     ]
    },
    {
     "data": {
      "text/plain": [
       "0.6825600000000001"
      ]
     },
     "execution_count": 9,
     "metadata": {},
     "output_type": "execute_result"
    }
   ],
   "source": [
    "cranberries(numflips = 6)"
   ]
  },
  {
   "cell_type": "code",
   "execution_count": 10,
   "metadata": {},
   "outputs": [
    {
     "name": "stdout",
     "output_type": "stream",
     "text": [
      "71.02080000000001%\n"
     ]
    },
    {
     "data": {
      "text/plain": [
       "0.7102080000000001"
      ]
     },
     "execution_count": 10,
     "metadata": {},
     "output_type": "execute_result"
    }
   ],
   "source": [
    "cranberries(numflips = 7)"
   ]
  },
  {
   "cell_type": "code",
   "execution_count": 11,
   "metadata": {},
   "outputs": [
    {
     "name": "stdout",
     "output_type": "stream",
     "text": [
      "71.0208%\n"
     ]
    },
    {
     "data": {
      "text/plain": [
       "0.710208"
      ]
     },
     "execution_count": 11,
     "metadata": {},
     "output_type": "execute_result"
    }
   ],
   "source": [
    "cranberries(numflips = 8)"
   ]
  },
  {
   "cell_type": "markdown",
   "metadata": {},
   "source": [
    "You know, on further consideration, the probability of cranberry surfacing is 60%, which was also our odds for 2 flips. So we may as well just flip the coin once and do what it says. \n",
    "\n",
    "More generally, it seems like an optimized strategy is indifferent between having an odd number flips and having one more flip than that. And the underlying probability spread there--that a plurality outcome of a perfect tie emerging between cran and not, yielding only 50% success--seems intuitive enough. "
   ]
  },
  {
   "cell_type": "code",
   "execution_count": null,
   "metadata": {},
   "outputs": [],
   "source": []
  }
 ],
 "metadata": {
  "kernelspec": {
   "display_name": "Python 3",
   "language": "python",
   "name": "python3"
  },
  "language_info": {
   "codemirror_mode": {
    "name": "ipython",
    "version": 3
   },
   "file_extension": ".py",
   "mimetype": "text/x-python",
   "name": "python",
   "nbconvert_exporter": "python",
   "pygments_lexer": "ipython3",
   "version": "3.7.3"
  }
 },
 "nbformat": 4,
 "nbformat_minor": 2
}
